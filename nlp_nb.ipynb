{
 "cells": [
  {
   "cell_type": "code",
   "execution_count": 10,
   "metadata": {},
   "outputs": [],
   "source": [
    "%matplotlib inline\n",
    "\n",
    "import pandas as pd\n",
    "import numpy as np\n",
    "import matplotlib.pyplot as plt\n",
    "from sklearn.feature_extraction.text import TfidfVectorizer\n",
    "from sklearn.model_selection import train_test_split\n",
    "#from sklearn.naive_bayes import MultinomialNB\n",
    "from sklearn.linear_model import PassiveAggressiveClassifier\n",
    "import sklearn.metrics as metrics\n",
    "import itertools\n",
    "import pickle"
   ]
  },
  {
   "cell_type": "markdown",
   "metadata": {},
   "source": [
    "## Get data from Datacamp's S3 bucket"
   ]
  },
  {
   "cell_type": "code",
   "execution_count": 11,
   "metadata": {
    "scrolled": true
   },
   "outputs": [
    {
     "name": "stdout",
     "output_type": "stream",
     "text": [
      "(6335, 4)\n",
      "('Number of fakes: ', 3164)\n"
     ]
    },
    {
     "data": {
      "text/html": [
       "<div>\n",
       "<style scoped>\n",
       "    .dataframe tbody tr th:only-of-type {\n",
       "        vertical-align: middle;\n",
       "    }\n",
       "\n",
       "    .dataframe tbody tr th {\n",
       "        vertical-align: top;\n",
       "    }\n",
       "\n",
       "    .dataframe thead th {\n",
       "        text-align: right;\n",
       "    }\n",
       "</style>\n",
       "<table border=\"1\" class=\"dataframe\">\n",
       "  <thead>\n",
       "    <tr style=\"text-align: right;\">\n",
       "      <th></th>\n",
       "      <th>Unnamed: 0</th>\n",
       "      <th>title</th>\n",
       "      <th>text</th>\n",
       "      <th>label</th>\n",
       "    </tr>\n",
       "  </thead>\n",
       "  <tbody>\n",
       "    <tr>\n",
       "      <th>0</th>\n",
       "      <td>8476</td>\n",
       "      <td>You Can Smell Hillary’s Fear</td>\n",
       "      <td>Daniel Greenfield, a Shillman Journalism Fello...</td>\n",
       "      <td>FAKE</td>\n",
       "    </tr>\n",
       "    <tr>\n",
       "      <th>1</th>\n",
       "      <td>10294</td>\n",
       "      <td>Watch The Exact Moment Paul Ryan Committed Pol...</td>\n",
       "      <td>Google Pinterest Digg Linkedin Reddit Stumbleu...</td>\n",
       "      <td>FAKE</td>\n",
       "    </tr>\n",
       "    <tr>\n",
       "      <th>2</th>\n",
       "      <td>3608</td>\n",
       "      <td>Kerry to go to Paris in gesture of sympathy</td>\n",
       "      <td>U.S. Secretary of State John F. Kerry said Mon...</td>\n",
       "      <td>REAL</td>\n",
       "    </tr>\n",
       "    <tr>\n",
       "      <th>3</th>\n",
       "      <td>10142</td>\n",
       "      <td>Bernie supporters on Twitter erupt in anger ag...</td>\n",
       "      <td>— Kaydee King (@KaydeeKing) November 9, 2016 T...</td>\n",
       "      <td>FAKE</td>\n",
       "    </tr>\n",
       "    <tr>\n",
       "      <th>4</th>\n",
       "      <td>875</td>\n",
       "      <td>The Battle of New York: Why This Primary Matters</td>\n",
       "      <td>It's primary day in New York and front-runners...</td>\n",
       "      <td>REAL</td>\n",
       "    </tr>\n",
       "  </tbody>\n",
       "</table>\n",
       "</div>"
      ],
      "text/plain": [
       "   Unnamed: 0                                              title  \\\n",
       "0        8476                       You Can Smell Hillary’s Fear   \n",
       "1       10294  Watch The Exact Moment Paul Ryan Committed Pol...   \n",
       "2        3608        Kerry to go to Paris in gesture of sympathy   \n",
       "3       10142  Bernie supporters on Twitter erupt in anger ag...   \n",
       "4         875   The Battle of New York: Why This Primary Matters   \n",
       "\n",
       "                                                text label  \n",
       "0  Daniel Greenfield, a Shillman Journalism Fello...  FAKE  \n",
       "1  Google Pinterest Digg Linkedin Reddit Stumbleu...  FAKE  \n",
       "2  U.S. Secretary of State John F. Kerry said Mon...  REAL  \n",
       "3  — Kaydee King (@KaydeeKing) November 9, 2016 T...  FAKE  \n",
       "4  It's primary day in New York and front-runners...  REAL  "
      ]
     },
     "execution_count": 11,
     "metadata": {},
     "output_type": "execute_result"
    }
   ],
   "source": [
    "df = pd.read_csv(\"https://s3.amazonaws.com/assets.datacamp.com/blog_assets/fake_or_real_news.csv\")\n",
    "print(df.shape)\n",
    "print(\"Number of fakes: \",df[df['label'].str.contains(\"FAKE\")].shape[0])\n",
    "df.head()"
   ]
  },
  {
   "cell_type": "markdown",
   "metadata": {},
   "source": [
    "For now, only text is used as a feature until title is explored differently"
   ]
  },
  {
   "cell_type": "code",
   "execution_count": 12,
   "metadata": {},
   "outputs": [],
   "source": [
    "# Do a 80-20 split of data into train and test sets. \n",
    "df = df[['title','text','label']]\n",
    "trainX, testX, trainY, testY = train_test_split(df['text'], df['label'], test_size = 0.20, random_state=44)"
   ]
  },
  {
   "cell_type": "code",
   "execution_count": 13,
   "metadata": {},
   "outputs": [],
   "source": [
    "# Initialize vectorizer\n",
    "tfidf_vectorizer = TfidfVectorizer(stop_words = 'english')\n",
    "train_tfidf = tfidf_vectorizer.fit_transform(trainX)\n",
    "test_tfidf = tfidf_vectorizer.transform(testX)"
   ]
  },
  {
   "cell_type": "code",
   "execution_count": 14,
   "metadata": {},
   "outputs": [],
   "source": [
    "#only need to do this once\n",
    "f = open(\"tfidf_vectorizer.pckl\",'wb')\n",
    "pickle.dump(tfidf_vectorizer,f)\n",
    "f.close()"
   ]
  },
  {
   "cell_type": "code",
   "execution_count": 15,
   "metadata": {},
   "outputs": [
    {
     "data": {
      "text/html": [
       "<div>\n",
       "<style scoped>\n",
       "    .dataframe tbody tr th:only-of-type {\n",
       "        vertical-align: middle;\n",
       "    }\n",
       "\n",
       "    .dataframe tbody tr th {\n",
       "        vertical-align: top;\n",
       "    }\n",
       "\n",
       "    .dataframe thead th {\n",
       "        text-align: right;\n",
       "    }\n",
       "</style>\n",
       "<table border=\"1\" class=\"dataframe\">\n",
       "  <thead>\n",
       "    <tr style=\"text-align: right;\">\n",
       "      <th></th>\n",
       "      <th>00</th>\n",
       "      <th>000</th>\n",
       "      <th>0000</th>\n",
       "      <th>000000031</th>\n",
       "      <th>000035</th>\n",
       "      <th>0001</th>\n",
       "      <th>0002</th>\n",
       "      <th>000billion</th>\n",
       "      <th>000ft</th>\n",
       "      <th>000km</th>\n",
       "      <th>...</th>\n",
       "      <th>تنجح</th>\n",
       "      <th>حلب</th>\n",
       "      <th>عربي</th>\n",
       "      <th>عن</th>\n",
       "      <th>لم</th>\n",
       "      <th>ما</th>\n",
       "      <th>محاولات</th>\n",
       "      <th>من</th>\n",
       "      <th>هذا</th>\n",
       "      <th>والمرضى</th>\n",
       "    </tr>\n",
       "  </thead>\n",
       "  <tbody>\n",
       "    <tr>\n",
       "      <th>0</th>\n",
       "      <td>0.0</td>\n",
       "      <td>0.0</td>\n",
       "      <td>0.0</td>\n",
       "      <td>0.0</td>\n",
       "      <td>0.0</td>\n",
       "      <td>0.0</td>\n",
       "      <td>0.0</td>\n",
       "      <td>0.0</td>\n",
       "      <td>0.0</td>\n",
       "      <td>0.0</td>\n",
       "      <td>...</td>\n",
       "      <td>0.0</td>\n",
       "      <td>0.0</td>\n",
       "      <td>0.0</td>\n",
       "      <td>0.0</td>\n",
       "      <td>0.0</td>\n",
       "      <td>0.0</td>\n",
       "      <td>0.0</td>\n",
       "      <td>0.0</td>\n",
       "      <td>0.0</td>\n",
       "      <td>0.0</td>\n",
       "    </tr>\n",
       "    <tr>\n",
       "      <th>1</th>\n",
       "      <td>0.0</td>\n",
       "      <td>0.0</td>\n",
       "      <td>0.0</td>\n",
       "      <td>0.0</td>\n",
       "      <td>0.0</td>\n",
       "      <td>0.0</td>\n",
       "      <td>0.0</td>\n",
       "      <td>0.0</td>\n",
       "      <td>0.0</td>\n",
       "      <td>0.0</td>\n",
       "      <td>...</td>\n",
       "      <td>0.0</td>\n",
       "      <td>0.0</td>\n",
       "      <td>0.0</td>\n",
       "      <td>0.0</td>\n",
       "      <td>0.0</td>\n",
       "      <td>0.0</td>\n",
       "      <td>0.0</td>\n",
       "      <td>0.0</td>\n",
       "      <td>0.0</td>\n",
       "      <td>0.0</td>\n",
       "    </tr>\n",
       "    <tr>\n",
       "      <th>2</th>\n",
       "      <td>0.0</td>\n",
       "      <td>0.0</td>\n",
       "      <td>0.0</td>\n",
       "      <td>0.0</td>\n",
       "      <td>0.0</td>\n",
       "      <td>0.0</td>\n",
       "      <td>0.0</td>\n",
       "      <td>0.0</td>\n",
       "      <td>0.0</td>\n",
       "      <td>0.0</td>\n",
       "      <td>...</td>\n",
       "      <td>0.0</td>\n",
       "      <td>0.0</td>\n",
       "      <td>0.0</td>\n",
       "      <td>0.0</td>\n",
       "      <td>0.0</td>\n",
       "      <td>0.0</td>\n",
       "      <td>0.0</td>\n",
       "      <td>0.0</td>\n",
       "      <td>0.0</td>\n",
       "      <td>0.0</td>\n",
       "    </tr>\n",
       "    <tr>\n",
       "      <th>3</th>\n",
       "      <td>0.0</td>\n",
       "      <td>0.0</td>\n",
       "      <td>0.0</td>\n",
       "      <td>0.0</td>\n",
       "      <td>0.0</td>\n",
       "      <td>0.0</td>\n",
       "      <td>0.0</td>\n",
       "      <td>0.0</td>\n",
       "      <td>0.0</td>\n",
       "      <td>0.0</td>\n",
       "      <td>...</td>\n",
       "      <td>0.0</td>\n",
       "      <td>0.0</td>\n",
       "      <td>0.0</td>\n",
       "      <td>0.0</td>\n",
       "      <td>0.0</td>\n",
       "      <td>0.0</td>\n",
       "      <td>0.0</td>\n",
       "      <td>0.0</td>\n",
       "      <td>0.0</td>\n",
       "      <td>0.0</td>\n",
       "    </tr>\n",
       "    <tr>\n",
       "      <th>4</th>\n",
       "      <td>0.0</td>\n",
       "      <td>0.0</td>\n",
       "      <td>0.0</td>\n",
       "      <td>0.0</td>\n",
       "      <td>0.0</td>\n",
       "      <td>0.0</td>\n",
       "      <td>0.0</td>\n",
       "      <td>0.0</td>\n",
       "      <td>0.0</td>\n",
       "      <td>0.0</td>\n",
       "      <td>...</td>\n",
       "      <td>0.0</td>\n",
       "      <td>0.0</td>\n",
       "      <td>0.0</td>\n",
       "      <td>0.0</td>\n",
       "      <td>0.0</td>\n",
       "      <td>0.0</td>\n",
       "      <td>0.0</td>\n",
       "      <td>0.0</td>\n",
       "      <td>0.0</td>\n",
       "      <td>0.0</td>\n",
       "    </tr>\n",
       "  </tbody>\n",
       "</table>\n",
       "<p>5 rows × 60757 columns</p>\n",
       "</div>"
      ],
      "text/plain": [
       "    00  000  0000  000000031  000035  0001  0002  000billion  000ft  000km  \\\n",
       "0  0.0  0.0   0.0        0.0     0.0   0.0   0.0         0.0    0.0    0.0   \n",
       "1  0.0  0.0   0.0        0.0     0.0   0.0   0.0         0.0    0.0    0.0   \n",
       "2  0.0  0.0   0.0        0.0     0.0   0.0   0.0         0.0    0.0    0.0   \n",
       "3  0.0  0.0   0.0        0.0     0.0   0.0   0.0         0.0    0.0    0.0   \n",
       "4  0.0  0.0   0.0        0.0     0.0   0.0   0.0         0.0    0.0    0.0   \n",
       "\n",
       "    ...     تنجح  حلب  عربي   عن   لم   ما  محاولات   من  هذا  والمرضى  \n",
       "0   ...      0.0  0.0   0.0  0.0  0.0  0.0      0.0  0.0  0.0      0.0  \n",
       "1   ...      0.0  0.0   0.0  0.0  0.0  0.0      0.0  0.0  0.0      0.0  \n",
       "2   ...      0.0  0.0   0.0  0.0  0.0  0.0      0.0  0.0  0.0      0.0  \n",
       "3   ...      0.0  0.0   0.0  0.0  0.0  0.0      0.0  0.0  0.0      0.0  \n",
       "4   ...      0.0  0.0   0.0  0.0  0.0  0.0      0.0  0.0  0.0      0.0  \n",
       "\n",
       "[5 rows x 60757 columns]"
      ]
     },
     "execution_count": 15,
     "metadata": {},
     "output_type": "execute_result"
    }
   ],
   "source": [
    "#tfidf_vectorizer.get_feature_names()[-10:]\n",
    "tfidf_df = pd.DataFrame(train_tfidf.A, columns=tfidf_vectorizer.get_feature_names())\n",
    "tfidf_df.head()"
   ]
  },
  {
   "cell_type": "code",
   "execution_count": 16,
   "metadata": {},
   "outputs": [],
   "source": [
    "def plot_confusion_matrix(cm, classes,\n",
    "                          normalize=False,\n",
    "                          title='Confusion matrix',\n",
    "                          cmap=plt.cm.Blues):\n",
    "    \"\"\"\n",
    "    See full source and example: \n",
    "    http://scikit-learn.org/stable/auto_examples/model_selection/plot_confusion_matrix.html\n",
    "    \n",
    "    This function prints and plots the confusion matrix.\n",
    "    Normalization can be applied by setting `normalize=True`.\n",
    "    \"\"\"\n",
    "    plt.imshow(cm, interpolation='nearest', cmap=cmap)\n",
    "    plt.title(title)\n",
    "    plt.colorbar()\n",
    "    tick_marks = np.arange(len(classes))\n",
    "    plt.xticks(tick_marks, classes, rotation=45)\n",
    "    plt.yticks(tick_marks, classes)\n",
    "\n",
    "    if normalize:\n",
    "        cm = cm.astype('float') / cm.sum(axis=1)[:, np.newaxis]\n",
    "        print(\"Normalized confusion matrix\")\n",
    "    else:\n",
    "        print('Confusion matrix, without normalization')\n",
    "\n",
    "    thresh = cm.max() / 2.\n",
    "    for i, j in itertools.product(range(cm.shape[0]), range(cm.shape[1])):\n",
    "        plt.text(j, i, cm[i, j],\n",
    "                 horizontalalignment=\"center\",\n",
    "                 color=\"white\" if cm[i, j] > thresh else \"black\")\n",
    "\n",
    "    plt.tight_layout()\n",
    "    plt.ylabel('True label')\n",
    "    plt.xlabel('Predicted label')"
   ]
  },
  {
   "cell_type": "markdown",
   "metadata": {},
   "source": [
    "### Passive Aggressive model \n",
    "Linear and takes less time"
   ]
  },
  {
   "cell_type": "code",
   "execution_count": 17,
   "metadata": {},
   "outputs": [],
   "source": [
    "linear_clf = PassiveAggressiveClassifier(max_iter=50, verbose=1, n_jobs=-1)"
   ]
  },
  {
   "cell_type": "code",
   "execution_count": 18,
   "metadata": {},
   "outputs": [
    {
     "name": "stdout",
     "output_type": "stream",
     "text": [
      "-- Epoch 1\n",
      "Norm: 38.94, NNZs: 47915, Bias: -0.612969, T: 5042, Avg. loss: 0.320269\n",
      "Total training time: 0.01 seconds.\n",
      "-- Epoch 2\n",
      "Norm: 44.50, NNZs: 48800, Bias: -0.537664, T: 10084, Avg. loss: 0.074000\n",
      "Total training time: 0.02 seconds.\n",
      "-- Epoch 3\n",
      "Norm: 47.24, NNZs: 49079, Bias: -0.509472, T: 15126, Avg. loss: 0.032420\n",
      "Total training time: 0.03 seconds.\n",
      "-- Epoch 4\n",
      "Norm: 48.48, NNZs: 49115, Bias: -0.514986, T: 20168, Avg. loss: 0.015522\n",
      "Total training time: 0.03 seconds.\n",
      "-- Epoch 5\n",
      "Norm: 48.99, NNZs: 49121, Bias: -0.512457, T: 25210, Avg. loss: 0.007713\n",
      "Total training time: 0.04 seconds.\n",
      "-- Epoch 6\n",
      "Norm: 49.25, NNZs: 49124, Bias: -0.515301, T: 30252, Avg. loss: 0.005117\n",
      "Total training time: 0.05 seconds.\n",
      "-- Epoch 7\n",
      "Norm: 49.37, NNZs: 49124, Bias: -0.510190, T: 35294, Avg. loss: 0.003665\n",
      "Total training time: 0.06 seconds.\n",
      "-- Epoch 8\n",
      "Norm: 49.43, NNZs: 49124, Bias: -0.512512, T: 40336, Avg. loss: 0.003074\n",
      "Total training time: 0.06 seconds.\n",
      "-- Epoch 9\n",
      "Norm: 49.46, NNZs: 49124, Bias: -0.511617, T: 45378, Avg. loss: 0.002777\n",
      "Total training time: 0.07 seconds.\n",
      "-- Epoch 10\n",
      "Norm: 49.47, NNZs: 49124, Bias: -0.511567, T: 50420, Avg. loss: 0.002626\n",
      "Total training time: 0.08 seconds.\n",
      "-- Epoch 11\n",
      "Norm: 49.48, NNZs: 49124, Bias: -0.511403, T: 55462, Avg. loss: 0.002567\n",
      "Total training time: 0.09 seconds.\n",
      "-- Epoch 12\n",
      "Norm: 49.48, NNZs: 49124, Bias: -0.511427, T: 60504, Avg. loss: 0.002534\n",
      "Total training time: 0.10 seconds.\n",
      "-- Epoch 13\n",
      "Norm: 49.48, NNZs: 49124, Bias: -0.511438, T: 65546, Avg. loss: 0.002519\n",
      "Total training time: 0.10 seconds.\n",
      "-- Epoch 14\n",
      "Norm: 49.48, NNZs: 49124, Bias: -0.511446, T: 70588, Avg. loss: 0.002513\n",
      "Total training time: 0.11 seconds.\n",
      "-- Epoch 15\n",
      "Norm: 49.48, NNZs: 49124, Bias: -0.511435, T: 75630, Avg. loss: 0.002510\n",
      "Total training time: 0.12 seconds.\n",
      "-- Epoch 16\n",
      "Norm: 49.48, NNZs: 49124, Bias: -0.511445, T: 80672, Avg. loss: 0.002508\n",
      "Total training time: 0.13 seconds.\n",
      "-- Epoch 17\n",
      "Norm: 49.48, NNZs: 49124, Bias: -0.511441, T: 85714, Avg. loss: 0.002507\n",
      "Total training time: 0.14 seconds.\n",
      "-- Epoch 18\n",
      "Norm: 49.48, NNZs: 49124, Bias: -0.511439, T: 90756, Avg. loss: 0.002507\n",
      "Total training time: 0.14 seconds.\n",
      "-- Epoch 19\n",
      "Norm: 49.48, NNZs: 49124, Bias: -0.511439, T: 95798, Avg. loss: 0.002507\n",
      "Total training time: 0.15 seconds.\n",
      "-- Epoch 20\n",
      "Norm: 49.48, NNZs: 49124, Bias: -0.511440, T: 100840, Avg. loss: 0.002507\n",
      "Total training time: 0.16 seconds.\n",
      "-- Epoch 21\n",
      "Norm: 49.48, NNZs: 49124, Bias: -0.511440, T: 105882, Avg. loss: 0.002506\n",
      "Total training time: 0.17 seconds.\n",
      "-- Epoch 22\n",
      "Norm: 49.48, NNZs: 49124, Bias: -0.511440, T: 110924, Avg. loss: 0.002506\n",
      "Total training time: 0.17 seconds.\n",
      "-- Epoch 23\n",
      "Norm: 49.48, NNZs: 49124, Bias: -0.511440, T: 115966, Avg. loss: 0.002506\n",
      "Total training time: 0.18 seconds.\n",
      "-- Epoch 24\n",
      "Norm: 49.48, NNZs: 49124, Bias: -0.511440, T: 121008, Avg. loss: 0.002506\n",
      "Total training time: 0.19 seconds.\n",
      "-- Epoch 25\n",
      "Norm: 49.48, NNZs: 49124, Bias: -0.511440, T: 126050, Avg. loss: 0.002506\n",
      "Total training time: 0.19 seconds.\n",
      "-- Epoch 26\n",
      "Norm: 49.48, NNZs: 49124, Bias: -0.511440, T: 131092, Avg. loss: 0.002506\n",
      "Total training time: 0.20 seconds.\n",
      "-- Epoch 27\n",
      "Norm: 49.48, NNZs: 49124, Bias: -0.511440, T: 136134, Avg. loss: 0.002506\n",
      "Total training time: 0.21 seconds.\n",
      "-- Epoch 28\n",
      "Norm: 49.48, NNZs: 49124, Bias: -0.511440, T: 141176, Avg. loss: 0.002506\n",
      "Total training time: 0.22 seconds.\n",
      "-- Epoch 29\n",
      "Norm: 49.48, NNZs: 49124, Bias: -0.511440, T: 146218, Avg. loss: 0.002506\n",
      "Total training time: 0.23 seconds.\n",
      "-- Epoch 30\n",
      "Norm: 49.48, NNZs: 49124, Bias: -0.511440, T: 151260, Avg. loss: 0.002506\n",
      "Total training time: 0.23 seconds.\n",
      "-- Epoch 31\n",
      "Norm: 49.48, NNZs: 49124, Bias: -0.511440, T: 156302, Avg. loss: 0.002506\n",
      "Total training time: 0.24 seconds.\n",
      "-- Epoch 32\n",
      "Norm: 49.48, NNZs: 49124, Bias: -0.511440, T: 161344, Avg. loss: 0.002506\n",
      "Total training time: 0.25 seconds.\n",
      "-- Epoch 33\n",
      "Norm: 49.48, NNZs: 49124, Bias: -0.511440, T: 166386, Avg. loss: 0.002506\n",
      "Total training time: 0.26 seconds.\n",
      "-- Epoch 34\n",
      "Norm: 49.48, NNZs: 49124, Bias: -0.511440, T: 171428, Avg. loss: 0.002506\n",
      "Total training time: 0.26 seconds.\n",
      "-- Epoch 35\n",
      "Norm: 49.48, NNZs: 49124, Bias: -0.511440, T: 176470, Avg. loss: 0.002506\n",
      "Total training time: 0.27 seconds.\n",
      "-- Epoch 36\n",
      "Norm: 49.48, NNZs: 49124, Bias: -0.511440, T: 181512, Avg. loss: 0.002506\n",
      "Total training time: 0.28 seconds.\n",
      "-- Epoch 37\n",
      "Norm: 49.48, NNZs: 49124, Bias: -0.511440, T: 186554, Avg. loss: 0.002506\n",
      "Total training time: 0.28 seconds.\n",
      "-- Epoch 38\n",
      "Norm: 49.48, NNZs: 49124, Bias: -0.511440, T: 191596, Avg. loss: 0.002506\n",
      "Total training time: 0.29 seconds.\n",
      "-- Epoch 39\n",
      "Norm: 49.48, NNZs: 49124, Bias: -0.511440, T: 196638, Avg. loss: 0.002506\n",
      "Total training time: 0.30 seconds.\n",
      "-- Epoch 40\n",
      "Norm: 49.48, NNZs: 49124, Bias: -0.511440, T: 201680, Avg. loss: 0.002506\n",
      "Total training time: 0.31 seconds.\n",
      "-- Epoch 41\n",
      "Norm: 49.48, NNZs: 49124, Bias: -0.511440, T: 206722, Avg. loss: 0.002506\n",
      "Total training time: 0.31 seconds.\n",
      "-- Epoch 42\n",
      "Norm: 49.48, NNZs: 49124, Bias: -0.511440, T: 211764, Avg. loss: 0.002506\n",
      "Total training time: 0.32 seconds.\n",
      "-- Epoch 43\n",
      "Norm: 49.48, NNZs: 49124, Bias: -0.511440, T: 216806, Avg. loss: 0.002506\n",
      "Total training time: 0.33 seconds.\n",
      "-- Epoch 44\n",
      "Norm: 49.48, NNZs: 49124, Bias: -0.511440, T: 221848, Avg. loss: 0.002506\n",
      "Total training time: 0.33 seconds.\n",
      "-- Epoch 45\n",
      "Norm: 49.48, NNZs: 49124, Bias: -0.511440, T: 226890, Avg. loss: 0.002506\n",
      "Total training time: 0.34 seconds.\n",
      "-- Epoch 46\n",
      "Norm: 49.48, NNZs: 49124, Bias: -0.511440, T: 231932, Avg. loss: 0.002506\n",
      "Total training time: 0.35 seconds.\n",
      "-- Epoch 47\n",
      "Norm: 49.48, NNZs: 49124, Bias: -0.511440, T: 236974, Avg. loss: 0.002506\n",
      "Total training time: 0.36 seconds.\n",
      "-- Epoch 48\n",
      "Norm: 49.48, NNZs: 49124, Bias: -0.511440, T: 242016, Avg. loss: 0.002506\n",
      "Total training time: 0.36 seconds.\n",
      "-- Epoch 49\n",
      "Norm: 49.48, NNZs: 49124, Bias: -0.511440, T: 247058, Avg. loss: 0.002506\n",
      "Total training time: 0.37 seconds.\n",
      "-- Epoch 50\n",
      "Norm: 49.48, NNZs: 49124, Bias: -0.511440, T: 252100, Avg. loss: 0.002506\n",
      "Total training time: 0.38 seconds.\n",
      "accuracy:   0.940\n"
     ]
    }
   ],
   "source": [
    "linear_clf.fit(train_tfidf, trainY)\n",
    "pred = linear_clf.predict(test_tfidf)\n",
    "score = metrics.accuracy_score(testY, pred)\n",
    "print(\"accuracy:   %0.3f\" % score)\n",
    "cm = metrics.confusion_matrix(testY, pred, labels=['FAKE', 'REAL'])"
   ]
  },
  {
   "cell_type": "code",
   "execution_count": 19,
   "metadata": {},
   "outputs": [
    {
     "name": "stdout",
     "output_type": "stream",
     "text": [
      "Confusion matrix, without normalization\n"
     ]
    },
    {
     "data": {
      "image/png": "[encoded data removed]",
      "text/plain": [
       "<Figure size 432x288 with 2 Axes>"
      ]
     },
     "metadata": {},
     "output_type": "display_data"
    }
   ],
   "source": [
    "plot_confusion_matrix(cm, classes=['FAKE', 'REAL'])"
   ]
  },
  {
   "cell_type": "code",
   "execution_count": 20,
   "metadata": {},
   "outputs": [],
   "source": [
    "f = open('PAC_model.pckl', 'wb')\n",
    "pickle.dump(linear_clf, f)\n",
    "f.close()"
   ]
  },
  {
   "cell_type": "markdown",
   "metadata": {},
   "source": [
    "## Most Common Words Associated With Fake News"
   ]
  },
  {
   "cell_type": "code",
   "execution_count": 21,
   "metadata": {},
   "outputs": [
    {
     "name": "stdout",
     "output_type": "stream",
     "text": [
      "2016\n",
      "october\n",
      "share\n",
      "november\n",
      "article\n",
      "election\n",
      "source\n",
      "hillary\n",
      "print\n",
      "advertisement\n",
      "establishment\n",
      "mosul\n",
      "snip\n",
      "fbi\n",
      "oct\n",
      "podesta\n",
      "corporate\n",
      "wikileaks\n",
      "email\n",
      "28\n",
      "stated\n",
      "uk\n",
      "healthcare\n",
      "26\n",
      "ayotte\n",
      "published\n",
      "filed\n",
      "reuters\n",
      "war\n",
      "order\n",
      "obamacare\n",
      "photo\n",
      "shares\n",
      "dakota\n",
      "pipeline\n",
      "free\n",
      "com\n",
      "bonuses\n",
      "daesh\n",
      "just\n",
      "plant\n",
      "african\n",
      "sources\n",
      "issa\n",
      "jewish\n",
      "donald\n",
      "posted\n",
      "soros\n",
      "runway\n",
      "entire\n"
     ]
    }
   ],
   "source": [
    "class_labels = linear_clf.classes_\n",
    "feature_names = tfidf_vectorizer.get_feature_names()\n",
    "topn_class1 = sorted(zip(linear_clf.coef_[0], feature_names))[:50]\n",
    "\n",
    "for coef, feat in topn_class1:\n",
    "    print(feat)"
   ]
  },
  {
   "cell_type": "markdown",
   "metadata": {},
   "source": [
    "### Multinomial NB model "
   ]
  },
  {
   "cell_type": "code",
   "execution_count": 32,
   "metadata": {},
   "outputs": [],
   "source": [
    "clf = MultinomialNB()"
   ]
  },
  {
   "cell_type": "code",
   "execution_count": null,
   "metadata": {},
   "outputs": [],
   "source": [
    "train_tfidf[:100].shape"
   ]
  },
  {
   "cell_type": "code",
   "execution_count": 33,
   "metadata": {},
   "outputs": [
    {
     "name": "stdout",
     "output_type": "stream",
     "text": [
      "Accuracy:  0.0\n"
     ]
    },
    {
     "name": "stderr",
     "output_type": "stream",
     "text": [
      "/usr/local/envs/py3env/lib/python3.5/site-packages/sklearn/metrics/classification.py:248: FutureWarning: elementwise comparison failed; returning scalar instead, but in the future will perform elementwise comparison\n",
      "  if np.all([l not in y_true for l in labels]):\n"
     ]
    },
    {
     "ename": "ValueError",
     "evalue": "At least one label specified must be in y_true",
     "output_type": "error",
     "traceback": [
      "\u001b[0;31m---------------------------------------------------------------------------\u001b[0m",
      "\u001b[0;31mValueError\u001b[0m                                Traceback (most recent call last)",
      "\u001b[0;32m<ipython-input-33-a834f5f6bea9>\u001b[0m in \u001b[0;36m<module>\u001b[0;34m()\u001b[0m\n\u001b[1;32m      3\u001b[0m \u001b[0mprint\u001b[0m\u001b[0;34m(\u001b[0m\u001b[0;34m\"Accuracy: \"\u001b[0m\u001b[0;34m,\u001b[0m \u001b[0msklearn\u001b[0m\u001b[0;34m.\u001b[0m\u001b[0mmetrics\u001b[0m\u001b[0;34m.\u001b[0m\u001b[0maccuracy_score\u001b[0m\u001b[0;34m(\u001b[0m\u001b[0mtestY\u001b[0m\u001b[0;34m,\u001b[0m \u001b[0mpred\u001b[0m\u001b[0;34m)\u001b[0m\u001b[0;34m)\u001b[0m\u001b[0;34m\u001b[0m\u001b[0m\n\u001b[1;32m      4\u001b[0m \u001b[0;34m\u001b[0m\u001b[0m\n\u001b[0;32m----> 5\u001b[0;31m \u001b[0mcm\u001b[0m \u001b[0;34m=\u001b[0m \u001b[0msklearn\u001b[0m\u001b[0;34m.\u001b[0m\u001b[0mmetrics\u001b[0m\u001b[0;34m.\u001b[0m\u001b[0mconfusion_matrix\u001b[0m\u001b[0;34m(\u001b[0m\u001b[0mtestY\u001b[0m\u001b[0;34m,\u001b[0m \u001b[0mpred\u001b[0m\u001b[0;34m,\u001b[0m \u001b[0mlabels\u001b[0m\u001b[0;34m=\u001b[0m\u001b[0;34m[\u001b[0m\u001b[0;34m'FAKE'\u001b[0m\u001b[0;34m,\u001b[0m\u001b[0;34m'REAL'\u001b[0m\u001b[0;34m]\u001b[0m\u001b[0;34m)\u001b[0m\u001b[0;34m\u001b[0m\u001b[0m\n\u001b[0m\u001b[1;32m      6\u001b[0m \u001b[0mplot_confusion_matrix\u001b[0m\u001b[0;34m(\u001b[0m\u001b[0mcm\u001b[0m\u001b[0;34m,\u001b[0m \u001b[0mclasses\u001b[0m\u001b[0;34m=\u001b[0m\u001b[0;34m[\u001b[0m\u001b[0;34m'FAKE'\u001b[0m\u001b[0;34m,\u001b[0m\u001b[0;34m'REAL'\u001b[0m\u001b[0;34m]\u001b[0m\u001b[0;34m)\u001b[0m\u001b[0;34m\u001b[0m\u001b[0m\n",
      "\u001b[0;32m/usr/local/envs/py3env/lib/python3.5/site-packages/sklearn/metrics/classification.py\u001b[0m in \u001b[0;36mconfusion_matrix\u001b[0;34m(y_true, y_pred, labels, sample_weight)\u001b[0m\n\u001b[1;32m    247\u001b[0m         \u001b[0mlabels\u001b[0m \u001b[0;34m=\u001b[0m \u001b[0mnp\u001b[0m\u001b[0;34m.\u001b[0m\u001b[0masarray\u001b[0m\u001b[0;34m(\u001b[0m\u001b[0mlabels\u001b[0m\u001b[0;34m)\u001b[0m\u001b[0;34m\u001b[0m\u001b[0m\n\u001b[1;32m    248\u001b[0m         \u001b[0;32mif\u001b[0m \u001b[0mnp\u001b[0m\u001b[0;34m.\u001b[0m\u001b[0mall\u001b[0m\u001b[0;34m(\u001b[0m\u001b[0;34m[\u001b[0m\u001b[0ml\u001b[0m \u001b[0;32mnot\u001b[0m \u001b[0;32min\u001b[0m \u001b[0my_true\u001b[0m \u001b[0;32mfor\u001b[0m \u001b[0ml\u001b[0m \u001b[0;32min\u001b[0m \u001b[0mlabels\u001b[0m\u001b[0;34m]\u001b[0m\u001b[0;34m)\u001b[0m\u001b[0;34m:\u001b[0m\u001b[0;34m\u001b[0m\u001b[0m\n\u001b[0;32m--> 249\u001b[0;31m             \u001b[0;32mraise\u001b[0m \u001b[0mValueError\u001b[0m\u001b[0;34m(\u001b[0m\u001b[0;34m\"At least one label specified must be in y_true\"\u001b[0m\u001b[0;34m)\u001b[0m\u001b[0;34m\u001b[0m\u001b[0m\n\u001b[0m\u001b[1;32m    250\u001b[0m \u001b[0;34m\u001b[0m\u001b[0m\n\u001b[1;32m    251\u001b[0m     \u001b[0;32mif\u001b[0m \u001b[0msample_weight\u001b[0m \u001b[0;32mis\u001b[0m \u001b[0;32mNone\u001b[0m\u001b[0;34m:\u001b[0m\u001b[0;34m\u001b[0m\u001b[0m\n",
      "\u001b[0;31mValueError\u001b[0m: At least one label specified must be in y_true"
     ]
    }
   ],
   "source": [
    "clf.fit(train_tfidf[:100], trainY[:100])\n",
    "pred = clf.predict(test_tfidf)\n",
    "print(\"Accuracy: \", sklearn.metrics.accuracy_score(testY, pred))\n",
    "\n",
    "cm = sklearn.metrics.confusion_matrix(testY, pred, labels=['FAKE','REAL'])\n",
    "plot_confusion_matrix(cm, classes=['FAKE','REAL'])"
   ]
  },
  {
   "cell_type": "markdown",
   "metadata": {},
   "source": [
    "## GBQ stuff that we might not need anymore"
   ]
  },
  {
   "cell_type": "code",
   "execution_count": 9,
   "metadata": {
    "scrolled": true
   },
   "outputs": [
    {
     "name": "stdout",
     "output_type": "stream",
     "text": [
      "\n",
      "\n",
      "\n",
      "Load is 100% Complete\n",
      "\n",
      "\n"
     ]
    }
   ],
   "source": [
    "sampleDF.to_gbq('FakeNews.SampleTable','vu-nlp',verbose=True)"
   ]
  },
  {
   "cell_type": "code",
   "execution_count": 2,
   "metadata": {},
   "outputs": [
    {
     "ename": "NameError",
     "evalue": "global name 'bqd' is not defined",
     "output_type": "error",
     "traceback": [
      "\u001b[0;31m\u001b[0m",
      "\u001b[0;31mNameError\u001b[0mTraceback (most recent call last)",
      "\u001b[0;32m<ipython-input-2-9d9cb297b603>\u001b[0m in \u001b[0;36m<module>\u001b[0;34m()\u001b[0m\n\u001b[1;32m     14\u001b[0m   \u001b[0;32mreturn\u001b[0m\u001b[0;34m(\u001b[0m\u001b[0mq\u001b[0m\u001b[0;34m.\u001b[0m\u001b[0mexecute\u001b[0m\u001b[0;34m(\u001b[0m\u001b[0;34m)\u001b[0m\u001b[0;34m.\u001b[0m\u001b[0mresult\u001b[0m\u001b[0;34m(\u001b[0m\u001b[0;34m)\u001b[0m\u001b[0;34m.\u001b[0m\u001b[0mto_dataframe\u001b[0m\u001b[0;34m(\u001b[0m\u001b[0;34m)\u001b[0m\u001b[0;34m)\u001b[0m\u001b[0;34m\u001b[0m\u001b[0m\n\u001b[1;32m     15\u001b[0m \u001b[0;34m\u001b[0m\u001b[0m\n\u001b[0;32m---> 16\u001b[0;31m \u001b[0msampleDF\u001b[0m \u001b[0;34m=\u001b[0m \u001b[0mload_sample\u001b[0m\u001b[0;34m(\u001b[0m\u001b[0;34m)\u001b[0m\u001b[0;34m\u001b[0m\u001b[0m\n\u001b[0m\u001b[1;32m     17\u001b[0m \u001b[0msampleDF\u001b[0m\u001b[0;34m\u001b[0m\u001b[0m\n",
      "\u001b[0;32m<ipython-input-2-9d9cb297b603>\u001b[0m in \u001b[0;36mload_sample\u001b[0;34m()\u001b[0m\n\u001b[1;32m      1\u001b[0m \u001b[0;32mdef\u001b[0m \u001b[0mload_sample\u001b[0m\u001b[0;34m(\u001b[0m\u001b[0;34m)\u001b[0m\u001b[0;34m:\u001b[0m\u001b[0;34m\u001b[0m\u001b[0m\n\u001b[0;32m----> 2\u001b[0;31m   q = bqd.Query(sql='''\n\u001b[0m\u001b[1;32m      3\u001b[0m     \u001b[0mSELECT\u001b[0m\u001b[0;34m\u001b[0m\u001b[0m\n\u001b[1;32m      4\u001b[0m       \u001b[0mtitle\u001b[0m\u001b[0;34m\u001b[0m\u001b[0m\n\u001b[1;32m      5\u001b[0m     \u001b[0mFROM\u001b[0m\u001b[0;34m\u001b[0m\u001b[0m\n",
      "\u001b[0;31mNameError\u001b[0m: global name 'bqd' is not defined"
     ]
    }
   ],
   "source": [
    "def load_sample():\n",
    "  q = bqd.Query(sql='''\n",
    "    SELECT\n",
    "      title\n",
    "    FROM\n",
    "      `vu-nlp.FakeNews.FAKENEWS` \n",
    "  WHERE\n",
    "    country = 'US'\n",
    "    and language ='english'\n",
    "  LIMIT 10\n",
    "  ''')\n",
    "  \n",
    "  print(\"Executing BigQuery query...\")\n",
    "  return(q.execute().result().to_dataframe())\n",
    "\n",
    "sampleDF = load_sample()\n",
    "sampleDF"
   ]
  }
 ],
 "metadata": {
  "anaconda-cloud": {},
  "kernelspec": {
   "display_name": "Python 2",
   "language": "python",
   "name": "python2"
  },
  "language_info": {
   "codemirror_mode": {
    "name": "ipython",
    "version": 2
   },
   "file_extension": ".py",
   "mimetype": "text/x-python",
   "name": "python",
   "nbconvert_exporter": "python",
   "pygments_lexer": "ipython2",
   "version": "2.7.13"
  }
 },
 "nbformat": 4,
 "nbformat_minor": 2
}
