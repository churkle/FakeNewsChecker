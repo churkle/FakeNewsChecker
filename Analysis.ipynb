{
 "cells": [
  {
   "cell_type": "markdown",
   "metadata": {
    "collapsed": true
   },
   "source": [
    "**This notebook is in Python 2.7**"
   ]
  },
  {
   "cell_type": "code",
   "execution_count": 3,
   "metadata": {},
   "outputs": [],
   "source": [
    "import pandas as pd\n",
    "from pattern.en import parsetree"
   ]
  },
  {
   "cell_type": "code",
   "execution_count": 4,
   "metadata": {},
   "outputs": [
    {
     "name": "stdout",
     "output_type": "stream",
     "text": [
      "(6335, 4)\n",
      "('Number of fakes: ', 3164)\n"
     ]
    },
    {
     "data": {
      "text/html": [
       "<div>\n",
       "<table border=\"1\" class=\"dataframe\">\n",
       "  <thead>\n",
       "    <tr style=\"text-align: right;\">\n",
       "      <th></th>\n",
       "      <th>title</th>\n",
       "      <th>text</th>\n",
       "      <th>label</th>\n",
       "    </tr>\n",
       "  </thead>\n",
       "  <tbody>\n",
       "    <tr>\n",
       "      <th>0</th>\n",
       "      <td>You Can Smell Hillary’s Fear</td>\n",
       "      <td>Daniel Greenfield, a Shillman Journalism Fello...</td>\n",
       "      <td>FAKE</td>\n",
       "    </tr>\n",
       "    <tr>\n",
       "      <th>1</th>\n",
       "      <td>Watch The Exact Moment Paul Ryan Committed Pol...</td>\n",
       "      <td>Google Pinterest Digg Linkedin Reddit Stumbleu...</td>\n",
       "      <td>FAKE</td>\n",
       "    </tr>\n",
       "    <tr>\n",
       "      <th>2</th>\n",
       "      <td>Kerry to go to Paris in gesture of sympathy</td>\n",
       "      <td>U.S. Secretary of State John F. Kerry said Mon...</td>\n",
       "      <td>REAL</td>\n",
       "    </tr>\n",
       "    <tr>\n",
       "      <th>3</th>\n",
       "      <td>Bernie supporters on Twitter erupt in anger ag...</td>\n",
       "      <td>— Kaydee King (@KaydeeKing) November 9, 2016 T...</td>\n",
       "      <td>FAKE</td>\n",
       "    </tr>\n",
       "    <tr>\n",
       "      <th>4</th>\n",
       "      <td>The Battle of New York: Why This Primary Matters</td>\n",
       "      <td>It's primary day in New York and front-runners...</td>\n",
       "      <td>REAL</td>\n",
       "    </tr>\n",
       "  </tbody>\n",
       "</table>\n",
       "</div>"
      ],
      "text/plain": [
       "                                               title  \\\n",
       "0                       You Can Smell Hillary’s Fear   \n",
       "1  Watch The Exact Moment Paul Ryan Committed Pol...   \n",
       "2        Kerry to go to Paris in gesture of sympathy   \n",
       "3  Bernie supporters on Twitter erupt in anger ag...   \n",
       "4   The Battle of New York: Why This Primary Matters   \n",
       "\n",
       "                                                text label  \n",
       "0  Daniel Greenfield, a Shillman Journalism Fello...  FAKE  \n",
       "1  Google Pinterest Digg Linkedin Reddit Stumbleu...  FAKE  \n",
       "2  U.S. Secretary of State John F. Kerry said Mon...  REAL  \n",
       "3  — Kaydee King (@KaydeeKing) November 9, 2016 T...  FAKE  \n",
       "4  It's primary day in New York and front-runners...  REAL  "
      ]
     },
     "execution_count": 4,
     "metadata": {},
     "output_type": "execute_result"
    }
   ],
   "source": [
    "df = pd.read_csv(\"https://s3.amazonaws.com/assets.datacamp.com/blog_assets/fake_or_real_news.csv\")\n",
    "print(df.shape)\n",
    "print(\"Number of fakes: \",df[df['label'].str.contains(\"FAKE\")].shape[0])\n",
    "df = df[['title','text','label']]\n",
    "df.head()"
   ]
  },
  {
   "cell_type": "markdown",
   "metadata": {},
   "source": [
    "**Parse headlines into linguistic parse trees**"
   ]
  },
  {
   "cell_type": "code",
   "execution_count": 40,
   "metadata": {
    "collapsed": true
   },
   "outputs": [
    {
     "data": {
      "text/plain": [
       "0                                            [NP, VP, NP]\n",
       "1                                [NP, VP, NP, PP, NP, NP]\n",
       "2                            [NP, VP, NP, PP, NP, PP, NP]\n",
       "3            [NP, PP, NP, VP, PP, NP, PP, NP, NP, VP, NP]\n",
       "4                                        [NP, PP, NP, NP]\n",
       "5                                                [NP, NP]\n",
       "6                [NP, PP, NP, VP, NP, PP, NP, VP, NP, PP]\n",
       "7                                                [NP, PP]\n",
       "8                                    [NP, NP, PP, NP, NP]\n",
       "9                            [NP, VP, NP, PP, NP, PP, NP]\n",
       "10                   [PP, NP, PP, NP, NP, PP, NP, VP, NP]\n",
       "11                                         [NP, VP, ADJP]\n",
       "12                                           [NP, NP, NP]\n",
       "13                                   [NP, VP, NP, PP, NP]\n",
       "14                                 [NP, VP, PP, NP, ADVP]\n",
       "15                                         [NP, VP, ADVP]\n",
       "16                                                 [ADJP]\n",
       "17                       [NP, PP, NP, PP, NP, VP, PP, NP]\n",
       "18                                   [VP, PP, NP, NP, VP]\n",
       "19                       [NP, VP, NP, VP, PP, NP, PP, NP]\n",
       "20                                   [NP, VP, NP, PP, NP]\n",
       "21                               [NP, NP, NP, NP, PP, NP]\n",
       "22                                   [NP, VP, NP, PP, NP]\n",
       "23                         [NP, VP, NP, PP, NP, VP, ADJP]\n",
       "24                                                   [NP]\n",
       "25                                           [NP, VP, NP]\n",
       "26                                           [NP, PP, NP]\n",
       "27                                   [NP, VP, NP, VP, NP]\n",
       "28      [NP, NP, VP, NP, PP, NP, VP, NP, NP, VP, VP, A...\n",
       "29                                       [NP, NP, NP, VP]\n",
       "                              ...                        \n",
       "6305                                     [NP, NP, PP, NP]\n",
       "6306                                         [NP, NP, VP]\n",
       "6307                 [NP, VP, PP, NP, VP, PP, NP, VP, NP]\n",
       "6308                                         [NP, PP, NP]\n",
       "6309                                         [NP, VP, NP]\n",
       "6310                         [NP, VP, NP, PP, NP, NP, NP]\n",
       "6311                         [ADJP, NP, NP, VP, ADVP, PP]\n",
       "6312                                     [NP, NP, VP, NP]\n",
       "6313               [NP, VP, NP, VP, VP, NP, VP, PP, ADJP]\n",
       "6314                                     [NP, NP, VP, NP]\n",
       "6315                                   [NP, ADJP, PP, NP]\n",
       "6316                                 [NP, VP, PP, NP, NP]\n",
       "6317               [NP, VP, NP, PP, NP, PP, NP, NP, ADVP]\n",
       "6318                                       [VP, NP, ADVP]\n",
       "6319                           [NP, VP, ADJP, VP, PP, NP]\n",
       "6320                                 [VP, NP, VP, PP, NP]\n",
       "6321                           [NP, PP, NP, VP, NP, ADJP]\n",
       "6322                           [NP, NP, PP, ADJP, NP, NP]\n",
       "6323                   [NP, VP, NP, PP, NP, VP, ADVP, NP]\n",
       "6324                                     [NP, NP, PP, NP]\n",
       "6325                 [VP, NP, PP, NP, VP, NP, VP, PP, NP]\n",
       "6326                     [NP, NP, PP, NP, PP, NP, PP, NP]\n",
       "6327                                     [NP, VP, PP, NP]\n",
       "6328                             [NP, VP, PP, NP, NP, NP]\n",
       "6329                                 [NP, PP, NP, VP, NP]\n",
       "6330                         [NP, VP, NP, VP, NP, PP, NP]\n",
       "6331                       [NP, PP, NP, VP, PP, NP, ADJP]\n",
       "6332                           [NP, VP, NP, PP, ADJP, NP]\n",
       "6333             [PP, NP, NP, VP, NP, PP, NP, NP, PP, NP]\n",
       "6334                                   [NP, VP, ADVP, NP]\n",
       "dtype: object"
      ]
     },
     "execution_count": 40,
     "metadata": {},
     "output_type": "execute_result"
    }
   ],
   "source": [
    "df['title_chunks'] = df[['title']].apply(lambda x: [chunk.type for chunk in parsetree(x['title'])[0].chunks], axis=1)\n",
    "df.head()"
   ]
  },
  {
   "cell_type": "code",
   "execution_count": null,
   "metadata": {},
   "outputs": [],
   "source": []
  }
 ],
 "metadata": {
  "kernelspec": {
   "display_name": "Python 2",
   "language": "python",
   "name": "python2"
  },
  "language_info": {
   "codemirror_mode": {
    "name": "ipython",
    "version": 2
   },
   "file_extension": ".py",
   "mimetype": "text/x-python",
   "name": "python",
   "nbconvert_exporter": "python",
   "pygments_lexer": "ipython2",
   "version": "2.7.14"
  }
 },
 "nbformat": 4,
 "nbformat_minor": 2
}
